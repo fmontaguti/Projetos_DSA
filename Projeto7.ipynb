{
 "cells": [
  {
   "cell_type": "code",
   "execution_count": 1,
   "id": "4d3c5f59",
   "metadata": {},
   "outputs": [],
   "source": [
    "import numpy as np\n",
    "import pandas as pd\n",
    "import matplotlib as mpl\n",
    "import matplotlib.pyplot as plt\n",
    "import seaborn as sns\n",
    "import os\n",
    "import nltk \n",
    "import re\n",
    "from nltk.tokenize import word_tokenize\n",
    "from nltk.stem import PorterStemmer\n",
    "from sklearn.model_selection import train_test_split\n",
    "from sklearn.pipeline import Pipeline\n",
    "from sklearn.compose import ColumnTransformer\n",
    "from sklearn.feature_extraction.text import CountVectorizer, TfidfTransformer\n",
    "from sklearn.preprocessing import OneHotEncoder\n",
    "from sklearn.naive_bayes import MultinomialNB\n",
    "from sklearn import metrics\n",
    "from sklearn.utils import class_weight\n",
    "from keras.models import Sequential\n",
    "from keras.layers import Dense, Dropout\n",
    "from tensorflow.keras.callbacks import EarlyStopping\n",
    "import tensorflow as tf\n",
    "import warnings\n",
    "warnings.filterwarnings('ignore')\n",
    "plt.style.use('ggplot')"
   ]
  },
  {
   "cell_type": "code",
   "execution_count": 30,
   "id": "5f1d973e",
   "metadata": {},
   "outputs": [],
   "source": [
    "# This is a Kaggle competition where we will develop algorithms to classify \n",
    "# genetic mutations based on clinical evidence (text)."
   ]
  },
  {
   "cell_type": "code",
   "execution_count": 2,
   "id": "3f10da7f",
   "metadata": {},
   "outputs": [],
   "source": [
    "# Reading File and spliting lines\n",
    "# Text dataset\n",
    "with open('projeto7-data_files/data_files/training_text', 'r', encoding='utf8') as f:\n",
    "    training_text = f.read()\n",
    "    training_text = training_text.splitlines()\n",
    "# Variants dataset \n",
    "with open('projeto7-data_files/data_files/training_variants ', 'r', encoding='utf8') as f:\n",
    "    training_variants = f.read()\n",
    "    training_variants = training_variants.splitlines()"
   ]
  },
  {
   "cell_type": "code",
   "execution_count": 3,
   "id": "2116d266",
   "metadata": {},
   "outputs": [
    {
     "name": "stdout",
     "output_type": "stream",
     "text": [
      "Wall time: 230 ms\n"
     ]
    }
   ],
   "source": [
    "%%time\n",
    "# Spliting Text line with '||' delimiter\n",
    "training_text_split = [line.split('||') for line in training_text]\n",
    "\n",
    "# Spliting Variants with ',' delimiter\n",
    "training_variants_split = [line.split(',') for line in training_variants]"
   ]
  },
  {
   "cell_type": "code",
   "execution_count": 4,
   "id": "2537f12f",
   "metadata": {},
   "outputs": [
    {
     "data": {
      "text/html": [
       "<div>\n",
       "<style scoped>\n",
       "    .dataframe tbody tr th:only-of-type {\n",
       "        vertical-align: middle;\n",
       "    }\n",
       "\n",
       "    .dataframe tbody tr th {\n",
       "        vertical-align: top;\n",
       "    }\n",
       "\n",
       "    .dataframe thead th {\n",
       "        text-align: right;\n",
       "    }\n",
       "</style>\n",
       "<table border=\"1\" class=\"dataframe\">\n",
       "  <thead>\n",
       "    <tr style=\"text-align: right;\">\n",
       "      <th></th>\n",
       "      <th>Gene</th>\n",
       "      <th>Variation</th>\n",
       "      <th>Class</th>\n",
       "      <th>Text</th>\n",
       "    </tr>\n",
       "  </thead>\n",
       "  <tbody>\n",
       "    <tr>\n",
       "      <th>0</th>\n",
       "      <td>FAM58A</td>\n",
       "      <td>Truncating Mutations</td>\n",
       "      <td>1</td>\n",
       "      <td>Cyclin-dependent kinases (CDKs) regulate a var...</td>\n",
       "    </tr>\n",
       "    <tr>\n",
       "      <th>1</th>\n",
       "      <td>CBL</td>\n",
       "      <td>W802*</td>\n",
       "      <td>2</td>\n",
       "      <td>Abstract Background  Non-small cell lung canc...</td>\n",
       "    </tr>\n",
       "    <tr>\n",
       "      <th>2</th>\n",
       "      <td>CBL</td>\n",
       "      <td>Q249E</td>\n",
       "      <td>2</td>\n",
       "      <td>Abstract Background  Non-small cell lung canc...</td>\n",
       "    </tr>\n",
       "    <tr>\n",
       "      <th>3</th>\n",
       "      <td>CBL</td>\n",
       "      <td>N454D</td>\n",
       "      <td>3</td>\n",
       "      <td>Recent evidence has demonstrated that acquired...</td>\n",
       "    </tr>\n",
       "    <tr>\n",
       "      <th>4</th>\n",
       "      <td>CBL</td>\n",
       "      <td>L399V</td>\n",
       "      <td>4</td>\n",
       "      <td>Oncogenic mutations in the monomeric Casitas B...</td>\n",
       "    </tr>\n",
       "  </tbody>\n",
       "</table>\n",
       "</div>"
      ],
      "text/plain": [
       "     Gene             Variation Class  \\\n",
       "0  FAM58A  Truncating Mutations     1   \n",
       "1     CBL                 W802*     2   \n",
       "2     CBL                 Q249E     2   \n",
       "3     CBL                 N454D     3   \n",
       "4     CBL                 L399V     4   \n",
       "\n",
       "                                                Text  \n",
       "0  Cyclin-dependent kinases (CDKs) regulate a var...  \n",
       "1   Abstract Background  Non-small cell lung canc...  \n",
       "2   Abstract Background  Non-small cell lung canc...  \n",
       "3  Recent evidence has demonstrated that acquired...  \n",
       "4  Oncogenic mutations in the monomeric Casitas B...  "
      ]
     },
     "execution_count": 4,
     "metadata": {},
     "output_type": "execute_result"
    }
   ],
   "source": [
    "# Deleting Header Row\n",
    "# Text dataset\n",
    "training_text_split.pop(0)\n",
    "training_text_split = pd.DataFrame(training_text_split,columns=['ID','Text'])\n",
    "\n",
    "# Variants dataset\n",
    "training_variants_split.pop(0)\n",
    "training_variants_split = pd.DataFrame(training_variants_split,columns=['ID','Gene','Variation','Class'])\n",
    "\n",
    "# Merging dataset by ID\n",
    "train_data = training_variants_split.merge(training_text_split, how='inner', on='ID')\n",
    "train_data = train_data.drop('ID',axis=1)\n",
    "train_data.head()"
   ]
  },
  {
   "cell_type": "code",
   "execution_count": 5,
   "id": "c7cf1130",
   "metadata": {},
   "outputs": [
    {
     "data": {
      "text/plain": [
       "Gene         0\n",
       "Variation    0\n",
       "Class        0\n",
       "Text         0\n",
       "dtype: int64"
      ]
     },
     "execution_count": 5,
     "metadata": {},
     "output_type": "execute_result"
    }
   ],
   "source": [
    "train_data.isna().sum()"
   ]
  },
  {
   "cell_type": "code",
   "execution_count": 6,
   "id": "4aaa4779",
   "metadata": {},
   "outputs": [
    {
     "data": {
      "image/png": "[encoded data removed]",
      "text/plain": [
       "<Figure size 432x288 with 1 Axes>"
      ]
     },
     "metadata": {},
     "output_type": "display_data"
    }
   ],
   "source": [
    "# PLotting the Target\n",
    "sns.countplot(x=\"Class\", data=train_data, order = train_data['Class'].value_counts().index)\n",
    "plt.title(\"Target Disribution\")\n",
    "plt.show()"
   ]
  },
  {
   "cell_type": "code",
   "execution_count": 7,
   "id": "c6045da4",
   "metadata": {},
   "outputs": [
    {
     "data": {
      "image/png": "[encoded data removed]",
      "text/plain": [
       "<Figure size 432x288 with 1 Axes>"
      ]
     },
     "metadata": {},
     "output_type": "display_data"
    }
   ],
   "source": [
    "# Plotting genes\n",
    "genes = train_data[\"Gene\"].value_counts()\n",
    "total_genes = genes.values/sum(genes.values)\n",
    "\n",
    "plt.plot(np.cumsum(total_genes))\n",
    "plt.xlabel(\"Index of a Gene\")\n",
    "plt.ylabel(\"Density\")\n",
    "plt.title(\"Cumulative distribution of Genes\")\n",
    "plt.show()"
   ]
  },
  {
   "cell_type": "code",
   "execution_count": 8,
   "id": "f3bedc10",
   "metadata": {},
   "outputs": [],
   "source": [
    "# Creating a function to tokenize and Stem the text\n",
    "def SentenceStemmer(sentence):\n",
    "    # replace every special char with space\n",
    "    sentence = re.sub('[^a-zA-Z0-9\\n]', ' ', sentence)\n",
    "    # replace multiple spaces with single space\n",
    "    sentence = re.sub('\\s+',' ', sentence)\n",
    "    # Tokenizing\n",
    "    tokens = word_tokenize(str.lower(sentence))\n",
    "    stems = [PorterStemmer().stem(token) for token in tokens]\n",
    "    return \" \".join(stems)"
   ]
  },
  {
   "cell_type": "code",
   "execution_count": 9,
   "id": "20303abb",
   "metadata": {},
   "outputs": [
    {
     "name": "stdout",
     "output_type": "stream",
     "text": [
      "Wall time: 14min 48s\n"
     ]
    }
   ],
   "source": [
    "%%time\n",
    "train_data['Stemmed_Text'] = train_data['Text'].apply(SentenceStemmer)"
   ]
  },
  {
   "cell_type": "code",
   "execution_count": 10,
   "id": "5be22421",
   "metadata": {},
   "outputs": [
    {
     "data": {
      "text/html": [
       "<div>\n",
       "<style scoped>\n",
       "    .dataframe tbody tr th:only-of-type {\n",
       "        vertical-align: middle;\n",
       "    }\n",
       "\n",
       "    .dataframe tbody tr th {\n",
       "        vertical-align: top;\n",
       "    }\n",
       "\n",
       "    .dataframe thead th {\n",
       "        text-align: right;\n",
       "    }\n",
       "</style>\n",
       "<table border=\"1\" class=\"dataframe\">\n",
       "  <thead>\n",
       "    <tr style=\"text-align: right;\">\n",
       "      <th></th>\n",
       "      <th>Gene</th>\n",
       "      <th>Variation</th>\n",
       "      <th>Class</th>\n",
       "      <th>Text</th>\n",
       "      <th>Stemmed_Text</th>\n",
       "    </tr>\n",
       "  </thead>\n",
       "  <tbody>\n",
       "    <tr>\n",
       "      <th>0</th>\n",
       "      <td>FAM58A</td>\n",
       "      <td>Truncating Mutations</td>\n",
       "      <td>1</td>\n",
       "      <td>Cyclin-dependent kinases (CDKs) regulate a var...</td>\n",
       "      <td>cyclin depend kinas cdk regul a varieti of fun...</td>\n",
       "    </tr>\n",
       "    <tr>\n",
       "      <th>1</th>\n",
       "      <td>CBL</td>\n",
       "      <td>W802*</td>\n",
       "      <td>2</td>\n",
       "      <td>Abstract Background  Non-small cell lung canc...</td>\n",
       "      <td>abstract background non small cell lung cancer...</td>\n",
       "    </tr>\n",
       "    <tr>\n",
       "      <th>2</th>\n",
       "      <td>CBL</td>\n",
       "      <td>Q249E</td>\n",
       "      <td>2</td>\n",
       "      <td>Abstract Background  Non-small cell lung canc...</td>\n",
       "      <td>abstract background non small cell lung cancer...</td>\n",
       "    </tr>\n",
       "    <tr>\n",
       "      <th>3</th>\n",
       "      <td>CBL</td>\n",
       "      <td>N454D</td>\n",
       "      <td>3</td>\n",
       "      <td>Recent evidence has demonstrated that acquired...</td>\n",
       "      <td>recent evid ha demonstr that acquir uniparent ...</td>\n",
       "    </tr>\n",
       "    <tr>\n",
       "      <th>4</th>\n",
       "      <td>CBL</td>\n",
       "      <td>L399V</td>\n",
       "      <td>4</td>\n",
       "      <td>Oncogenic mutations in the monomeric Casitas B...</td>\n",
       "      <td>oncogen mutat in the monomer casita b lineag l...</td>\n",
       "    </tr>\n",
       "  </tbody>\n",
       "</table>\n",
       "</div>"
      ],
      "text/plain": [
       "     Gene             Variation Class  \\\n",
       "0  FAM58A  Truncating Mutations     1   \n",
       "1     CBL                 W802*     2   \n",
       "2     CBL                 Q249E     2   \n",
       "3     CBL                 N454D     3   \n",
       "4     CBL                 L399V     4   \n",
       "\n",
       "                                                Text  \\\n",
       "0  Cyclin-dependent kinases (CDKs) regulate a var...   \n",
       "1   Abstract Background  Non-small cell lung canc...   \n",
       "2   Abstract Background  Non-small cell lung canc...   \n",
       "3  Recent evidence has demonstrated that acquired...   \n",
       "4  Oncogenic mutations in the monomeric Casitas B...   \n",
       "\n",
       "                                        Stemmed_Text  \n",
       "0  cyclin depend kinas cdk regul a varieti of fun...  \n",
       "1  abstract background non small cell lung cancer...  \n",
       "2  abstract background non small cell lung cancer...  \n",
       "3  recent evid ha demonstr that acquir uniparent ...  \n",
       "4  oncogen mutat in the monomer casita b lineag l...  "
      ]
     },
     "execution_count": 10,
     "metadata": {},
     "output_type": "execute_result"
    }
   ],
   "source": [
    "train_data.head()"
   ]
  },
  {
   "cell_type": "code",
   "execution_count": 11,
   "id": "fc7ff073",
   "metadata": {},
   "outputs": [],
   "source": [
    "# Spliting X and y\n",
    "X = train_data.drop(['Text', 'Class'], axis=1)\n",
    "y = train_data['Class'].values\n",
    "# Removing 1 of y for the first class starts with 0 index\n",
    "y = y.astype(int)-1\n",
    "\n",
    "# Spliting into train and text\n",
    "X_train, X_test, y_train, y_test = train_test_split(X,y,test_size=0.1,stratify=y)"
   ]
  },
  {
   "cell_type": "code",
   "execution_count": 12,
   "id": "53370307",
   "metadata": {},
   "outputs": [
    {
     "data": {
      "text/plain": [
       "((2689, 3), (333, 3), (299, 3))"
      ]
     },
     "execution_count": 12,
     "metadata": {},
     "output_type": "execute_result"
    }
   ],
   "source": [
    "# Spliting into train and validation\n",
    "X_train, X_validation, y_train, y_validation = train_test_split(X_train,y_train,test_size=0.1,\n",
    "                                                                stratify=y_train)\n",
    "\n",
    "X_train.shape,X_test.shape,X_validation.shape"
   ]
  },
  {
   "cell_type": "code",
   "execution_count": 13,
   "id": "65df53c7",
   "metadata": {},
   "outputs": [],
   "source": [
    "## Pipeline for preprocess X\n",
    "# Creating custom transformation for the text\n",
    "text_features = \"Stemmed_Text\"\n",
    "text_transformer = Pipeline(\n",
    "    steps=[('vect', CountVectorizer(stop_words='english')), \n",
    "           ('tfidf', TfidfTransformer())]\n",
    ")\n",
    "\n",
    "# One Hot encoding for categoricals columns\n",
    "categorical_features = ['Gene','Variation']\n",
    "categorical_transformer = OneHotEncoder(handle_unknown=\"ignore\")\n",
    "\n",
    "# Passing the parameters\n",
    "preprocessor = ColumnTransformer(\n",
    "    transformers=[\n",
    "        (\"txt\", text_transformer, text_features),\n",
    "        (\"cat\", categorical_transformer, categorical_features),\n",
    "    ]\n",
    ")\n",
    "\n",
    "# Finishing pipeline\n",
    "pre_process = Pipeline(\n",
    "    steps=[(\"preprocessor\", preprocessor)]\n",
    ")"
   ]
  },
  {
   "cell_type": "code",
   "execution_count": 14,
   "id": "587f7cbf",
   "metadata": {},
   "outputs": [
    {
     "name": "stdout",
     "output_type": "stream",
     "text": [
      "Wall time: 20.9 s\n"
     ]
    },
    {
     "data": {
      "text/plain": [
       "((2689, 128412), (333, 128412), (299, 128412))"
      ]
     },
     "execution_count": 14,
     "metadata": {},
     "output_type": "execute_result"
    }
   ],
   "source": [
    "%%time\n",
    "# Applying pipeline\n",
    "X_train_preprocced = pre_process.fit_transform(X_train)\n",
    "X_test_preprocced = pre_process.transform(X_test)\n",
    "X_validation_preprocced = pre_process.transform(X_validation)\n",
    "\n",
    "X_train_preprocced.shape, X_test_preprocced.shape,X_validation_preprocced.shape"
   ]
  },
  {
   "cell_type": "code",
   "execution_count": 15,
   "id": "71bd4b72",
   "metadata": {},
   "outputs": [
    {
     "name": "stdout",
     "output_type": "stream",
     "text": [
      "              precision    recall  f1-score   support\n",
      "\n",
      "           0       0.70      0.54      0.61        57\n",
      "           1       1.00      0.07      0.12        45\n",
      "           2       0.00      0.00      0.00         9\n",
      "           3       0.68      0.83      0.75        69\n",
      "           4       0.75      0.25      0.38        24\n",
      "           5       0.94      0.61      0.74        28\n",
      "           6       0.54      1.00      0.70        95\n",
      "           7       0.00      0.00      0.00         2\n",
      "           8       0.00      0.00      0.00         4\n",
      "\n",
      "    accuracy                           0.63       333\n",
      "   macro avg       0.51      0.37      0.37       333\n",
      "weighted avg       0.68      0.63      0.57       333\n",
      "\n",
      "[[31  0  0 17  0  0  9  0  0]\n",
      " [ 0  3  0  0  0  0 42  0  0]\n",
      " [ 1  0  0  2  0  0  6  0  0]\n",
      " [ 7  0  0 57  0  0  5  0  0]\n",
      " [ 4  0  0  8  6  1  5  0  0]\n",
      " [ 1  0  0  0  2 17  8  0  0]\n",
      " [ 0  0  0  0  0  0 95  0  0]\n",
      " [ 0  0  0  0  0  0  2  0  0]\n",
      " [ 0  0  0  0  0  0  4  0  0]]\n"
     ]
    }
   ],
   "source": [
    "# Trainning a simple model to see results in test data\n",
    "clf = MultinomialNB().fit(X_train_preprocced,y_train)\n",
    "print(metrics.classification_report(y_test,clf.predict(X_test_preprocced)))\n",
    "print(metrics.confusion_matrix(y_test, clf.predict(X_test_preprocced)))"
   ]
  },
  {
   "cell_type": "code",
   "execution_count": 16,
   "id": "4ecb1dbe",
   "metadata": {},
   "outputs": [],
   "source": [
    "## Neural Network\n",
    "# Transforming y to dummy variable\n",
    "y_train_encoded = tf.keras.utils.to_categorical(y_train)\n",
    "y_test_encoded = tf.keras.utils.to_categorical(y_test)\n",
    "y_validation_encoded = tf.keras.utils.to_categorical(y_validation)"
   ]
  },
  {
   "cell_type": "code",
   "execution_count": 17,
   "id": "109176a3",
   "metadata": {},
   "outputs": [],
   "source": [
    "# Unbalanced classes in the target, so we will create class weights\n",
    "class_weights = class_weight.compute_class_weight('balanced',np.unique(y_train),y_train)\n",
    "class_dict = dict(enumerate(class_weights))\n",
    "\n",
    "# configure early stopping\n",
    "es = EarlyStopping(monitor='val_loss', patience=5)"
   ]
  },
  {
   "cell_type": "code",
   "execution_count": 46,
   "id": "a3894e73",
   "metadata": {},
   "outputs": [
    {
     "name": "stdout",
     "output_type": "stream",
     "text": [
      "Model: \"sequential_7\"\n",
      "_________________________________________________________________\n",
      " Layer (type)                Output Shape              Param #   \n",
      "=================================================================\n",
      " dense_21 (Dense)            (None, 8)                 1027304   \n",
      "                                                                 \n",
      " dropout_10 (Dropout)        (None, 8)                 0         \n",
      "                                                                 \n",
      " dense_22 (Dense)            (None, 12)                108       \n",
      "                                                                 \n",
      " dropout_11 (Dropout)        (None, 12)                0         \n",
      "                                                                 \n",
      " dense_23 (Dense)            (None, 9)                 117       \n",
      "                                                                 \n",
      "=================================================================\n",
      "Total params: 1,027,529\n",
      "Trainable params: 1,027,529\n",
      "Non-trainable params: 0\n",
      "_________________________________________________________________\n"
     ]
    }
   ],
   "source": [
    "# Creating keras sequential model\n",
    "model = Sequential()\n",
    "model.add(Dense(8, input_dim=X_train_preprocced.shape[1], activation='relu',kernel_regularizer='l2'))\n",
    "model.add(Dropout(0.1))\n",
    "model.add(Dense(12, activation='relu'))\n",
    "model.add(Dropout(0.1))\n",
    "model.add(Dense(y_train_encoded.shape[1], activation='softmax'))\n",
    "# Compiling model\n",
    "model.compile(optimizer = \"adam\", loss = \"categorical_crossentropy\", metrics = [\"accuracy\"])\n",
    "model.summary()"
   ]
  },
  {
   "cell_type": "code",
   "execution_count": 47,
   "id": "0424d054",
   "metadata": {},
   "outputs": [
    {
     "name": "stdout",
     "output_type": "stream",
     "text": [
      "Epoch 1/100\n",
      "85/85 [==============================] - 2s 13ms/step - loss: 2.2002 - accuracy: 0.0900 - val_loss: 2.1779 - val_accuracy: 0.2007\n",
      "Epoch 2/100\n",
      "85/85 [==============================] - 1s 12ms/step - loss: 2.1727 - accuracy: 0.2343 - val_loss: 2.1536 - val_accuracy: 0.3378\n",
      "Epoch 3/100\n",
      "85/85 [==============================] - 1s 12ms/step - loss: 2.1333 - accuracy: 0.2466 - val_loss: 2.1141 - val_accuracy: 0.2943\n",
      "Epoch 4/100\n",
      "85/85 [==============================] - 1s 12ms/step - loss: 2.0475 - accuracy: 0.2458 - val_loss: 2.0540 - val_accuracy: 0.2642\n",
      "Epoch 5/100\n",
      "85/85 [==============================] - 1s 12ms/step - loss: 1.9358 - accuracy: 0.2607 - val_loss: 2.0078 - val_accuracy: 0.2742\n",
      "Epoch 6/100\n",
      "85/85 [==============================] - 1s 13ms/step - loss: 1.8587 - accuracy: 0.2949 - val_loss: 1.9611 - val_accuracy: 0.3478\n",
      "Epoch 7/100\n",
      "85/85 [==============================] - 1s 12ms/step - loss: 1.8022 - accuracy: 0.2893 - val_loss: 1.9249 - val_accuracy: 0.3779\n",
      "Epoch 8/100\n",
      "85/85 [==============================] - 1s 13ms/step - loss: 1.7343 - accuracy: 0.3321 - val_loss: 1.8884 - val_accuracy: 0.3712\n",
      "Epoch 9/100\n",
      "85/85 [==============================] - 1s 13ms/step - loss: 1.7096 - accuracy: 0.3217 - val_loss: 1.8407 - val_accuracy: 0.4147\n",
      "Epoch 10/100\n",
      "85/85 [==============================] - 1s 12ms/step - loss: 1.7127 - accuracy: 0.3276 - val_loss: 1.8332 - val_accuracy: 0.3813\n",
      "Epoch 11/100\n",
      "85/85 [==============================] - 1s 12ms/step - loss: 1.6568 - accuracy: 0.3555 - val_loss: 1.7876 - val_accuracy: 0.4013\n",
      "Epoch 12/100\n",
      "85/85 [==============================] - 1s 12ms/step - loss: 1.6020 - accuracy: 0.3421 - val_loss: 1.7784 - val_accuracy: 0.3779\n",
      "Epoch 13/100\n",
      "85/85 [==============================] - 1s 12ms/step - loss: 1.5889 - accuracy: 0.3589 - val_loss: 1.7491 - val_accuracy: 0.4314\n",
      "Epoch 14/100\n",
      "85/85 [==============================] - 1s 12ms/step - loss: 1.5784 - accuracy: 0.3600 - val_loss: 1.7246 - val_accuracy: 0.4314\n",
      "Epoch 15/100\n",
      "85/85 [==============================] - 1s 12ms/step - loss: 1.5690 - accuracy: 0.3685 - val_loss: 1.7064 - val_accuracy: 0.4482\n",
      "Epoch 16/100\n",
      "85/85 [==============================] - 1s 12ms/step - loss: 1.5743 - accuracy: 0.3741 - val_loss: 1.6939 - val_accuracy: 0.4247\n",
      "Epoch 17/100\n",
      "85/85 [==============================] - 1s 12ms/step - loss: 1.5272 - accuracy: 0.3790 - val_loss: 1.6958 - val_accuracy: 0.4482\n",
      "Epoch 18/100\n",
      "85/85 [==============================] - 1s 12ms/step - loss: 1.5110 - accuracy: 0.3927 - val_loss: 1.6577 - val_accuracy: 0.4783\n",
      "Epoch 19/100\n",
      "85/85 [==============================] - 1s 12ms/step - loss: 1.4886 - accuracy: 0.4068 - val_loss: 1.6672 - val_accuracy: 0.4548\n",
      "Epoch 20/100\n",
      "85/85 [==============================] - 1s 12ms/step - loss: 1.4671 - accuracy: 0.3916 - val_loss: 1.6538 - val_accuracy: 0.4381\n",
      "Epoch 21/100\n",
      "85/85 [==============================] - 1s 12ms/step - loss: 1.4810 - accuracy: 0.3923 - val_loss: 1.6439 - val_accuracy: 0.4783\n",
      "Epoch 22/100\n",
      "85/85 [==============================] - 1s 12ms/step - loss: 1.4304 - accuracy: 0.4236 - val_loss: 1.6379 - val_accuracy: 0.4682\n",
      "Epoch 23/100\n",
      "85/85 [==============================] - 1s 13ms/step - loss: 1.4291 - accuracy: 0.4407 - val_loss: 1.6217 - val_accuracy: 0.4816\n",
      "Epoch 24/100\n",
      "85/85 [==============================] - 1s 12ms/step - loss: 1.4230 - accuracy: 0.4202 - val_loss: 1.6331 - val_accuracy: 0.4582\n",
      "Epoch 25/100\n",
      "85/85 [==============================] - 1s 12ms/step - loss: 1.4108 - accuracy: 0.4269 - val_loss: 1.6040 - val_accuracy: 0.4816\n",
      "Epoch 26/100\n",
      "85/85 [==============================] - 1s 12ms/step - loss: 1.3693 - accuracy: 0.4373 - val_loss: 1.5902 - val_accuracy: 0.4816\n",
      "Epoch 27/100\n",
      "85/85 [==============================] - 1s 12ms/step - loss: 1.3733 - accuracy: 0.4504 - val_loss: 1.5895 - val_accuracy: 0.4849\n",
      "Epoch 28/100\n",
      "85/85 [==============================] - 1s 12ms/step - loss: 1.3430 - accuracy: 0.4701 - val_loss: 1.5557 - val_accuracy: 0.5117\n",
      "Epoch 29/100\n",
      "85/85 [==============================] - 1s 13ms/step - loss: 1.3583 - accuracy: 0.4835 - val_loss: 1.5628 - val_accuracy: 0.4950\n",
      "Epoch 30/100\n",
      "85/85 [==============================] - 1s 12ms/step - loss: 1.3197 - accuracy: 0.4686 - val_loss: 1.5549 - val_accuracy: 0.4783\n",
      "Epoch 31/100\n",
      "85/85 [==============================] - 1s 12ms/step - loss: 1.2984 - accuracy: 0.4808 - val_loss: 1.5567 - val_accuracy: 0.5251\n",
      "Epoch 32/100\n",
      "85/85 [==============================] - 1s 12ms/step - loss: 1.2861 - accuracy: 0.4924 - val_loss: 1.5516 - val_accuracy: 0.5184\n",
      "Epoch 33/100\n",
      "85/85 [==============================] - 1s 12ms/step - loss: 1.3126 - accuracy: 0.5084 - val_loss: 1.5419 - val_accuracy: 0.5251\n",
      "Epoch 34/100\n",
      "85/85 [==============================] - 1s 12ms/step - loss: 1.3369 - accuracy: 0.4994 - val_loss: 1.5422 - val_accuracy: 0.5518\n",
      "Epoch 35/100\n",
      "85/85 [==============================] - 1s 12ms/step - loss: 1.2545 - accuracy: 0.5184 - val_loss: 1.5308 - val_accuracy: 0.5184\n",
      "Epoch 36/100\n",
      "85/85 [==============================] - 1s 12ms/step - loss: 1.2615 - accuracy: 0.5277 - val_loss: 1.5182 - val_accuracy: 0.5418\n",
      "Epoch 37/100\n",
      "85/85 [==============================] - 1s 13ms/step - loss: 1.2298 - accuracy: 0.5058 - val_loss: 1.5120 - val_accuracy: 0.5385\n",
      "Epoch 38/100\n",
      "85/85 [==============================] - 1s 12ms/step - loss: 1.2246 - accuracy: 0.5299 - val_loss: 1.5098 - val_accuracy: 0.5552\n",
      "Epoch 39/100\n",
      "85/85 [==============================] - 1s 12ms/step - loss: 1.2228 - accuracy: 0.5441 - val_loss: 1.5192 - val_accuracy: 0.5686\n",
      "Epoch 40/100\n",
      "85/85 [==============================] - 1s 12ms/step - loss: 1.1745 - accuracy: 0.5563 - val_loss: 1.4940 - val_accuracy: 0.5753\n",
      "Epoch 41/100\n",
      "85/85 [==============================] - 1s 12ms/step - loss: 1.1977 - accuracy: 0.5511 - val_loss: 1.5083 - val_accuracy: 0.5351\n",
      "Epoch 42/100\n",
      "85/85 [==============================] - 1s 12ms/step - loss: 1.1767 - accuracy: 0.5597 - val_loss: 1.4746 - val_accuracy: 0.5953\n",
      "Epoch 43/100\n",
      "85/85 [==============================] - 1s 12ms/step - loss: 1.1856 - accuracy: 0.5653 - val_loss: 1.4765 - val_accuracy: 0.5786\n",
      "Epoch 44/100\n",
      "85/85 [==============================] - 1s 12ms/step - loss: 1.1565 - accuracy: 0.5801 - val_loss: 1.4873 - val_accuracy: 0.5953\n",
      "Epoch 45/100\n",
      "85/85 [==============================] - 1s 12ms/step - loss: 1.1474 - accuracy: 0.5861 - val_loss: 1.4904 - val_accuracy: 0.5819\n",
      "Epoch 46/100\n",
      "85/85 [==============================] - 1s 13ms/step - loss: 1.1294 - accuracy: 0.5853 - val_loss: 1.4696 - val_accuracy: 0.6020\n",
      "Epoch 47/100\n",
      "85/85 [==============================] - 1s 12ms/step - loss: 1.0660 - accuracy: 0.6177 - val_loss: 1.4694 - val_accuracy: 0.5786\n",
      "Epoch 48/100\n",
      "85/85 [==============================] - 1s 12ms/step - loss: 1.1507 - accuracy: 0.6140 - val_loss: 1.4844 - val_accuracy: 0.5819\n",
      "Epoch 49/100\n",
      "85/85 [==============================] - 1s 12ms/step - loss: 1.1338 - accuracy: 0.6095 - val_loss: 1.4659 - val_accuracy: 0.5853\n",
      "Epoch 50/100\n",
      "85/85 [==============================] - 1s 12ms/step - loss: 1.1072 - accuracy: 0.6054 - val_loss: 1.4456 - val_accuracy: 0.6187\n",
      "Epoch 51/100\n",
      "85/85 [==============================] - 1s 12ms/step - loss: 1.0932 - accuracy: 0.6337 - val_loss: 1.4572 - val_accuracy: 0.6254\n",
      "Epoch 52/100\n",
      "85/85 [==============================] - 1s 12ms/step - loss: 1.0394 - accuracy: 0.6393 - val_loss: 1.4542 - val_accuracy: 0.6120\n",
      "Epoch 53/100\n",
      "85/85 [==============================] - 1s 12ms/step - loss: 1.0704 - accuracy: 0.6348 - val_loss: 1.4547 - val_accuracy: 0.6020\n",
      "Epoch 54/100\n",
      "85/85 [==============================] - 1s 12ms/step - loss: 1.0309 - accuracy: 0.6579 - val_loss: 1.4230 - val_accuracy: 0.6254\n",
      "Epoch 55/100\n",
      "85/85 [==============================] - 1s 12ms/step - loss: 1.0648 - accuracy: 0.6530 - val_loss: 1.4533 - val_accuracy: 0.6221\n",
      "Epoch 56/100\n",
      "85/85 [==============================] - 1s 12ms/step - loss: 1.0416 - accuracy: 0.6556 - val_loss: 1.4369 - val_accuracy: 0.6154\n",
      "Epoch 57/100\n",
      "85/85 [==============================] - 1s 12ms/step - loss: 0.9867 - accuracy: 0.6928 - val_loss: 1.4366 - val_accuracy: 0.6120\n",
      "Epoch 58/100\n",
      "85/85 [==============================] - 1s 12ms/step - loss: 1.0472 - accuracy: 0.6779 - val_loss: 1.4408 - val_accuracy: 0.6154\n",
      "Epoch 59/100\n",
      "85/85 [==============================] - 1s 12ms/step - loss: 1.0130 - accuracy: 0.6858 - val_loss: 1.4248 - val_accuracy: 0.6154\n",
      "Wall time: 1min 2s\n"
     ]
    }
   ],
   "source": [
    "%%time\n",
    "# Training the model\n",
    "history = model.fit(X_train_preprocced, y_train_encoded, epochs = 100,\n",
    "                    validation_data=(X_validation_preprocced,y_validation_encoded),\n",
    "                    callbacks=[es],\n",
    "                    class_weight=class_dict,\n",
    "                    shuffle=True)"
   ]
  },
  {
   "cell_type": "code",
   "execution_count": 57,
   "id": "c84e87d2",
   "metadata": {},
   "outputs": [
    {
     "data": {
      "image/png": "[encoded data removed]",
      "text/plain": [
       "<Figure size 432x288 with 1 Axes>"
      ]
     },
     "metadata": {},
     "output_type": "display_data"
    }
   ],
   "source": [
    "# plot Loss curves\n",
    "plt.plot(history.history['loss'])\n",
    "plt.plot(history.history['val_loss'])\n",
    "plt.title('Model Loss')\n",
    "plt.xlabel('Epoch')\n",
    "plt.ylabel('Loss')\n",
    "plt.legend(['train', 'val'], loc='upper right')\n",
    "plt.show()"
   ]
  },
  {
   "cell_type": "code",
   "execution_count": 59,
   "id": "9f557393",
   "metadata": {},
   "outputs": [
    {
     "data": {
      "image/png": "[encoded data removed]",
      "text/plain": [
       "<Figure size 432x288 with 1 Axes>"
      ]
     },
     "metadata": {},
     "output_type": "display_data"
    }
   ],
   "source": [
    "# plot Accuracy curves\n",
    "plt.plot(history.history['accuracy'])\n",
    "plt.plot(history.history['val_accuracy'])\n",
    "plt.title('Model Accuracy')\n",
    "plt.xlabel('Epoch')\n",
    "plt.ylabel('Accuracy')\n",
    "plt.legend(['train', 'val'], loc='upper left')\n",
    "plt.show()"
   ]
  },
  {
   "cell_type": "code",
   "execution_count": 49,
   "id": "22ba8d8e",
   "metadata": {},
   "outputs": [
    {
     "name": "stdout",
     "output_type": "stream",
     "text": [
      "11/11 [==============================] - 0s 5ms/step - loss: 1.3027 - accuracy: 0.6937\n"
     ]
    },
    {
     "data": {
      "text/plain": [
       "[1.3027162551879883, 0.6936936974525452]"
      ]
     },
     "execution_count": 49,
     "metadata": {},
     "output_type": "execute_result"
    }
   ],
   "source": [
    "model.evaluate(X_test_preprocced,y_test_encoded)"
   ]
  },
  {
   "cell_type": "code",
   "execution_count": null,
   "id": "788ac24d",
   "metadata": {},
   "outputs": [],
   "source": [
    "# With this Neural Network we were able to increase slight the model accuracy"
   ]
  }
 ],
 "metadata": {
  "kernelspec": {
   "display_name": "Python 3",
   "language": "python",
   "name": "python3"
  },
  "language_info": {
   "codemirror_mode": {
    "name": "ipython",
    "version": 3
   },
   "file_extension": ".py",
   "mimetype": "text/x-python",
   "name": "python",
   "nbconvert_exporter": "python",
   "pygments_lexer": "ipython3",
   "version": "3.8.8"
  }
 },
 "nbformat": 4,
 "nbformat_minor": 5
}
