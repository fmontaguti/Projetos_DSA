{
 "cells": [
  {
   "cell_type": "code",
   "execution_count": 1,
   "id": "4d3c5f59",
   "metadata": {},
   "outputs": [],
   "source": [
    "import numpy as np\n",
    "import pandas as pd\n",
    "import matplotlib as mpl\n",
    "import matplotlib.pyplot as plt\n",
    "import seaborn as sns\n",
    "import os\n",
    "import nltk \n",
    "import re\n",
    "from nltk.tokenize import word_tokenize\n",
    "from nltk.stem import PorterStemmer\n",
    "from sklearn.model_selection import train_test_split\n",
    "from sklearn.pipeline import Pipeline\n",
    "from sklearn.compose import ColumnTransformer\n",
    "from sklearn.feature_extraction.text import CountVectorizer, TfidfTransformer\n",
    "from sklearn.preprocessing import OneHotEncoder\n",
    "from sklearn.naive_bayes import MultinomialNB\n",
    "from sklearn import metrics\n",
    "from sklearn.utils import class_weight\n",
    "from keras.models import Sequential\n",
    "from keras.layers import Dense, Dropout\n",
    "from tensorflow.keras.callbacks import EarlyStopping\n",
    "import tensorflow as tf\n",
    "import warnings\n",
    "warnings.filterwarnings('ignore')\n",
    "plt.style.use('ggplot')"
   ]
  },
  {
   "cell_type": "code",
   "execution_count": 30,
   "id": "ffc26510",
   "metadata": {},
   "outputs": [],
   "source": [
    "# This is a Kaggle competition where we will develop algorithms to classify \n",
    "# genetic mutations based on clinical evidence (text)."
   ]
  },
  {
   "cell_type": "code",
   "execution_count": 2,
   "id": "3f10da7f",
   "metadata": {},
   "outputs": [],
   "source": [
    "# Reading File and spliting lines\n",
    "# Text dataset\n",
    "with open('projeto7-data_files/data_files/training_text', 'r', encoding='utf8') as f:\n",
    "    training_text = f.read()\n",
    "    training_text = training_text.splitlines()\n",
    "# Variants dataset \n",
    "with open('projeto7-data_files/data_files/training_variants ', 'r', encoding='utf8') as f:\n",
    "    training_variants = f.read()\n",
    "    training_variants = training_variants.splitlines()"
   ]
  },
  {
   "cell_type": "code",
   "execution_count": 3,
   "id": "2116d266",
   "metadata": {},
   "outputs": [
    {
     "name": "stdout",
     "output_type": "stream",
     "text": [
      "Wall time: 230 ms\n"
     ]
    }
   ],
   "source": [
    "%%time\n",
    "# Spliting Text line with '||' delimiter\n",
    "training_text_split = [line.split('||') for line in training_text]\n",
    "\n",
    "# Spliting Variants with ',' delimiter\n",
    "training_variants_split = [line.split(',') for line in training_variants]"
   ]
  },
  {
   "cell_type": "code",
   "execution_count": 4,
   "id": "2537f12f",
   "metadata": {},
   "outputs": [
    {
     "data": {
      "text/html": [
       "<div>\n",
       "<style scoped>\n",
       "    .dataframe tbody tr th:only-of-type {\n",
       "        vertical-align: middle;\n",
       "    }\n",
       "\n",
       "    .dataframe tbody tr th {\n",
       "        vertical-align: top;\n",
       "    }\n",
       "\n",
       "    .dataframe thead th {\n",
       "        text-align: right;\n",
       "    }\n",
       "</style>\n",
       "<table border=\"1\" class=\"dataframe\">\n",
       "  <thead>\n",
       "    <tr style=\"text-align: right;\">\n",
       "      <th></th>\n",
       "      <th>Gene</th>\n",
       "      <th>Variation</th>\n",
       "      <th>Class</th>\n",
       "      <th>Text</th>\n",
       "    </tr>\n",
       "  </thead>\n",
       "  <tbody>\n",
       "    <tr>\n",
       "      <th>0</th>\n",
       "      <td>FAM58A</td>\n",
       "      <td>Truncating Mutations</td>\n",
       "      <td>1</td>\n",
       "      <td>Cyclin-dependent kinases (CDKs) regulate a var...</td>\n",
       "    </tr>\n",
       "    <tr>\n",
       "      <th>1</th>\n",
       "      <td>CBL</td>\n",
       "      <td>W802*</td>\n",
       "      <td>2</td>\n",
       "      <td>Abstract Background  Non-small cell lung canc...</td>\n",
       "    </tr>\n",
       "    <tr>\n",
       "      <th>2</th>\n",
       "      <td>CBL</td>\n",
       "      <td>Q249E</td>\n",
       "      <td>2</td>\n",
       "      <td>Abstract Background  Non-small cell lung canc...</td>\n",
       "    </tr>\n",
       "    <tr>\n",
       "      <th>3</th>\n",
       "      <td>CBL</td>\n",
       "      <td>N454D</td>\n",
       "      <td>3</td>\n",
       "      <td>Recent evidence has demonstrated that acquired...</td>\n",
       "    </tr>\n",
       "    <tr>\n",
       "      <th>4</th>\n",
       "      <td>CBL</td>\n",
       "      <td>L399V</td>\n",
       "      <td>4</td>\n",
       "      <td>Oncogenic mutations in the monomeric Casitas B...</td>\n",
       "    </tr>\n",
       "  </tbody>\n",
       "</table>\n",
       "</div>"
      ],
      "text/plain": [
       "     Gene             Variation Class  \\\n",
       "0  FAM58A  Truncating Mutations     1   \n",
       "1     CBL                 W802*     2   \n",
       "2     CBL                 Q249E     2   \n",
       "3     CBL                 N454D     3   \n",
       "4     CBL                 L399V     4   \n",
       "\n",
       "                                                Text  \n",
       "0  Cyclin-dependent kinases (CDKs) regulate a var...  \n",
       "1   Abstract Background  Non-small cell lung canc...  \n",
       "2   Abstract Background  Non-small cell lung canc...  \n",
       "3  Recent evidence has demonstrated that acquired...  \n",
       "4  Oncogenic mutations in the monomeric Casitas B...  "
      ]
     },
     "execution_count": 4,
     "metadata": {},
     "output_type": "execute_result"
    }
   ],
   "source": [
    "# Deleting Header Row\n",
    "# Text dataset\n",
    "training_text_split.pop(0)\n",
    "training_text_split = pd.DataFrame(training_text_split,columns=['ID','Text'])\n",
    "\n",
    "# Variants dataset\n",
    "training_variants_split.pop(0)\n",
    "training_variants_split = pd.DataFrame(training_variants_split,columns=['ID','Gene','Variation','Class'])\n",
    "\n",
    "# Merging dataset by ID\n",
    "train_data = training_variants_split.merge(training_text_split, how='inner', on='ID')\n",
    "train_data = train_data.drop('ID',axis=1)\n",
    "train_data.head()"
   ]
  },
  {
   "cell_type": "code",
   "execution_count": 5,
   "id": "c7cf1130",
   "metadata": {},
   "outputs": [
    {
     "data": {
      "text/plain": [
       "Gene         0\n",
       "Variation    0\n",
       "Class        0\n",
       "Text         0\n",
       "dtype: int64"
      ]
     },
     "execution_count": 5,
     "metadata": {},
     "output_type": "execute_result"
    }
   ],
   "source": [
    "train_data.isna().sum()"
   ]
  },
  {
   "cell_type": "code",
   "execution_count": 6,
   "id": "4aaa4779",
   "metadata": {},
   "outputs": [
    {
     "data": {
      "image/png": "[encoded data removed]",
      "text/plain": [
       "<Figure size 432x288 with 1 Axes>"
      ]
     },
     "metadata": {},
     "output_type": "display_data"
    }
   ],
   "source": [
    "# PLotting the Target\n",
    "sns.countplot(x=\"Class\", data=train_data, order = train_data['Class'].value_counts().index)\n",
    "plt.title(\"Target Disribution\")\n",
    "plt.show()"
   ]
  },
  {
   "cell_type": "code",
   "execution_count": 7,
   "id": "c6045da4",
   "metadata": {},
   "outputs": [
    {
     "data": {
      "image/png": "[encoded data removed]",
      "text/plain": [
       "<Figure size 432x288 with 1 Axes>"
      ]
     },
     "metadata": {},
     "output_type": "display_data"
    }
   ],
   "source": [
    "# Plotting genes\n",
    "genes = train_data[\"Gene\"].value_counts()\n",
    "total_genes = genes.values/sum(genes.values)\n",
    "\n",
    "plt.plot(np.cumsum(total_genes))\n",
    "plt.xlabel(\"Index of a Gene\")\n",
    "plt.ylabel(\"Density\")\n",
    "plt.title(\"Cumulative distribution of Genes\")\n",
    "plt.show()"
   ]
  },
  {
   "cell_type": "code",
   "execution_count": 8,
   "id": "f3bedc10",
   "metadata": {},
   "outputs": [],
   "source": [
    "# Creating a function to tokenize and Stem the text\n",
    "def SentenceStemmer(sentence):\n",
    "    # replace every special char with space\n",
    "    sentence = re.sub('[^a-zA-Z0-9\\n]', ' ', sentence)\n",
    "    # replace multiple spaces with single space\n",
    "    sentence = re.sub('\\s+',' ', sentence)\n",
    "    # Tokenizing\n",
    "    tokens = word_tokenize(str.lower(sentence))\n",
    "    stems = [PorterStemmer().stem(token) for token in tokens]\n",
    "    return \" \".join(stems)"
   ]
  },
  {
   "cell_type": "code",
   "execution_count": 9,
   "id": "20303abb",
   "metadata": {},
   "outputs": [
    {
     "name": "stdout",
     "output_type": "stream",
     "text": [
      "Wall time: 14min 48s\n"
     ]
    }
   ],
   "source": [
    "%%time\n",
    "train_data['Stemmed_Text'] = train_data['Text'].apply(SentenceStemmer)"
   ]
  },
  {
   "cell_type": "code",
   "execution_count": 10,
   "id": "5be22421",
   "metadata": {},
   "outputs": [
    {
     "data": {
      "text/html": [
       "<div>\n",
       "<style scoped>\n",
       "    .dataframe tbody tr th:only-of-type {\n",
       "        vertical-align: middle;\n",
       "    }\n",
       "\n",
       "    .dataframe tbody tr th {\n",
       "        vertical-align: top;\n",
       "    }\n",
       "\n",
       "    .dataframe thead th {\n",
       "        text-align: right;\n",
       "    }\n",
       "</style>\n",
       "<table border=\"1\" class=\"dataframe\">\n",
       "  <thead>\n",
       "    <tr style=\"text-align: right;\">\n",
       "      <th></th>\n",
       "      <th>Gene</th>\n",
       "      <th>Variation</th>\n",
       "      <th>Class</th>\n",
       "      <th>Text</th>\n",
       "      <th>Stemmed_Text</th>\n",
       "    </tr>\n",
       "  </thead>\n",
       "  <tbody>\n",
       "    <tr>\n",
       "      <th>0</th>\n",
       "      <td>FAM58A</td>\n",
       "      <td>Truncating Mutations</td>\n",
       "      <td>1</td>\n",
       "      <td>Cyclin-dependent kinases (CDKs) regulate a var...</td>\n",
       "      <td>cyclin depend kinas cdk regul a varieti of fun...</td>\n",
       "    </tr>\n",
       "    <tr>\n",
       "      <th>1</th>\n",
       "      <td>CBL</td>\n",
       "      <td>W802*</td>\n",
       "      <td>2</td>\n",
       "      <td>Abstract Background  Non-small cell lung canc...</td>\n",
       "      <td>abstract background non small cell lung cancer...</td>\n",
       "    </tr>\n",
       "    <tr>\n",
       "      <th>2</th>\n",
       "      <td>CBL</td>\n",
       "      <td>Q249E</td>\n",
       "      <td>2</td>\n",
       "      <td>Abstract Background  Non-small cell lung canc...</td>\n",
       "      <td>abstract background non small cell lung cancer...</td>\n",
       "    </tr>\n",
       "    <tr>\n",
       "      <th>3</th>\n",
       "      <td>CBL</td>\n",
       "      <td>N454D</td>\n",
       "      <td>3</td>\n",
       "      <td>Recent evidence has demonstrated that acquired...</td>\n",
       "      <td>recent evid ha demonstr that acquir uniparent ...</td>\n",
       "    </tr>\n",
       "    <tr>\n",
       "      <th>4</th>\n",
       "      <td>CBL</td>\n",
       "      <td>L399V</td>\n",
       "      <td>4</td>\n",
       "      <td>Oncogenic mutations in the monomeric Casitas B...</td>\n",
       "      <td>oncogen mutat in the monomer casita b lineag l...</td>\n",
       "    </tr>\n",
       "  </tbody>\n",
       "</table>\n",
       "</div>"
      ],
      "text/plain": [
       "     Gene             Variation Class  \\\n",
       "0  FAM58A  Truncating Mutations     1   \n",
       "1     CBL                 W802*     2   \n",
       "2     CBL                 Q249E     2   \n",
       "3     CBL                 N454D     3   \n",
       "4     CBL                 L399V     4   \n",
       "\n",
       "                                                Text  \\\n",
       "0  Cyclin-dependent kinases (CDKs) regulate a var...   \n",
       "1   Abstract Background  Non-small cell lung canc...   \n",
       "2   Abstract Background  Non-small cell lung canc...   \n",
       "3  Recent evidence has demonstrated that acquired...   \n",
       "4  Oncogenic mutations in the monomeric Casitas B...   \n",
       "\n",
       "                                        Stemmed_Text  \n",
       "0  cyclin depend kinas cdk regul a varieti of fun...  \n",
       "1  abstract background non small cell lung cancer...  \n",
       "2  abstract background non small cell lung cancer...  \n",
       "3  recent evid ha demonstr that acquir uniparent ...  \n",
       "4  oncogen mutat in the monomer casita b lineag l...  "
      ]
     },
     "execution_count": 10,
     "metadata": {},
     "output_type": "execute_result"
    }
   ],
   "source": [
    "train_data.head()"
   ]
  },
  {
   "cell_type": "code",
   "execution_count": 11,
   "id": "fc7ff073",
   "metadata": {},
   "outputs": [],
   "source": [
    "# Spliting X and y\n",
    "X = train_data.drop(['Text', 'Class'], axis=1)\n",
    "y = train_data['Class'].values\n",
    "# Removing 1 of y for the first class starts with 0 index\n",
    "y = y.astype(int)-1\n",
    "\n",
    "# Spliting into train and text\n",
    "X_train, X_test, y_train, y_test = train_test_split(X,y,test_size=0.1,stratify=y)"
   ]
  },
  {
   "cell_type": "code",
   "execution_count": 12,
   "id": "eccdf7f4",
   "metadata": {},
   "outputs": [
    {
     "data": {
      "text/plain": [
       "((2689, 3), (333, 3), (299, 3))"
      ]
     },
     "execution_count": 12,
     "metadata": {},
     "output_type": "execute_result"
    }
   ],
   "source": [
    "# Spliting into train and validation\n",
    "X_train, X_validation, y_train, y_validation = train_test_split(X_train,y_train,test_size=0.1,\n",
    "                                                                stratify=y_train)\n",
    "\n",
    "X_train.shape,X_test.shape,X_validation.shape"
   ]
  },
  {
   "cell_type": "code",
   "execution_count": 13,
   "id": "65df53c7",
   "metadata": {},
   "outputs": [],
   "source": [
    "## Pipeline for preprocess X\n",
    "# Creating custom transformation for the text\n",
    "text_features = \"Stemmed_Text\"\n",
    "text_transformer = Pipeline(\n",
    "    steps=[('vect', CountVectorizer(stop_words='english')), \n",
    "           ('tfidf', TfidfTransformer())]\n",
    ")\n",
    "\n",
    "# One Hot encoding for categoricals columns\n",
    "categorical_features = ['Gene','Variation']\n",
    "categorical_transformer = OneHotEncoder(handle_unknown=\"ignore\")\n",
    "\n",
    "# Passing the parameters\n",
    "preprocessor = ColumnTransformer(\n",
    "    transformers=[\n",
    "        (\"txt\", text_transformer, text_features),\n",
    "        (\"cat\", categorical_transformer, categorical_features),\n",
    "    ]\n",
    ")\n",
    "\n",
    "# Finishing pipeline\n",
    "pre_process = Pipeline(\n",
    "    steps=[(\"preprocessor\", preprocessor)]\n",
    ")"
   ]
  },
  {
   "cell_type": "code",
   "execution_count": 14,
   "id": "587f7cbf",
   "metadata": {},
   "outputs": [
    {
     "name": "stdout",
     "output_type": "stream",
     "text": [
      "Wall time: 20.9 s\n"
     ]
    },
    {
     "data": {
      "text/plain": [
       "((2689, 128412), (333, 128412), (299, 128412))"
      ]
     },
     "execution_count": 14,
     "metadata": {},
     "output_type": "execute_result"
    }
   ],
   "source": [
    "%%time\n",
    "# Applying pipeline\n",
    "X_train_preprocced = pre_process.fit_transform(X_train)\n",
    "X_test_preprocced = pre_process.transform(X_test)\n",
    "X_validation_preprocced = pre_process.transform(X_validation)\n",
    "\n",
    "X_train_preprocced.shape, X_test_preprocced.shape,X_validation_preprocced.shape"
   ]
  },
  {
   "cell_type": "code",
   "execution_count": 15,
   "id": "71bd4b72",
   "metadata": {},
   "outputs": [
    {
     "name": "stdout",
     "output_type": "stream",
     "text": [
      "              precision    recall  f1-score   support\n",
      "\n",
      "           0       0.70      0.54      0.61        57\n",
      "           1       1.00      0.07      0.12        45\n",
      "           2       0.00      0.00      0.00         9\n",
      "           3       0.68      0.83      0.75        69\n",
      "           4       0.75      0.25      0.38        24\n",
      "           5       0.94      0.61      0.74        28\n",
      "           6       0.54      1.00      0.70        95\n",
      "           7       0.00      0.00      0.00         2\n",
      "           8       0.00      0.00      0.00         4\n",
      "\n",
      "    accuracy                           0.63       333\n",
      "   macro avg       0.51      0.37      0.37       333\n",
      "weighted avg       0.68      0.63      0.57       333\n",
      "\n",
      "[[31  0  0 17  0  0  9  0  0]\n",
      " [ 0  3  0  0  0  0 42  0  0]\n",
      " [ 1  0  0  2  0  0  6  0  0]\n",
      " [ 7  0  0 57  0  0  5  0  0]\n",
      " [ 4  0  0  8  6  1  5  0  0]\n",
      " [ 1  0  0  0  2 17  8  0  0]\n",
      " [ 0  0  0  0  0  0 95  0  0]\n",
      " [ 0  0  0  0  0  0  2  0  0]\n",
      " [ 0  0  0  0  0  0  4  0  0]]\n"
     ]
    }
   ],
   "source": [
    "# Trainning a simple model to see results in test data\n",
    "clf = MultinomialNB().fit(X_train_preprocced,y_train)\n",
    "print(metrics.classification_report(y_test,clf.predict(X_test_preprocced)))\n",
    "print(metrics.confusion_matrix(y_test, clf.predict(X_test_preprocced)))"
   ]
  },
  {
   "cell_type": "code",
   "execution_count": 16,
   "id": "4ecb1dbe",
   "metadata": {},
   "outputs": [],
   "source": [
    "## Neural Network\n",
    "# Transforming y to dummy variable\n",
    "y_train_encoded = tf.keras.utils.to_categorical(y_train)\n",
    "y_test_encoded = tf.keras.utils.to_categorical(y_test)\n",
    "y_validation_encoded = tf.keras.utils.to_categorical(y_validation)"
   ]
  },
  {
   "cell_type": "code",
   "execution_count": 17,
   "id": "109176a3",
   "metadata": {},
   "outputs": [],
   "source": [
    "# Unbalanced classes in the target, so we will create class weights\n",
    "class_weights = class_weight.compute_class_weight('balanced',np.unique(y_train),y_train)\n",
    "class_dict = dict(enumerate(class_weights))\n",
    "\n",
    "# configure early stopping\n",
    "es = EarlyStopping(monitor='val_loss', patience=5)"
   ]
  },
  {
   "cell_type": "code",
   "execution_count": 26,
   "id": "a3894e73",
   "metadata": {},
   "outputs": [
    {
     "name": "stdout",
     "output_type": "stream",
     "text": [
      "Model: \"sequential_2\"\n",
      "_________________________________________________________________\n",
      " Layer (type)                Output Shape              Param #   \n",
      "=================================================================\n",
      " dense_6 (Dense)             (None, 8)                 1027304   \n",
      "                                                                 \n",
      " dropout_2 (Dropout)         (None, 8)                 0         \n",
      "                                                                 \n",
      " dense_7 (Dense)             (None, 12)                108       \n",
      "                                                                 \n",
      " dense_8 (Dense)             (None, 9)                 117       \n",
      "                                                                 \n",
      "=================================================================\n",
      "Total params: 1,027,529\n",
      "Trainable params: 1,027,529\n",
      "Non-trainable params: 0\n",
      "_________________________________________________________________\n"
     ]
    }
   ],
   "source": [
    "# Creating keras sequential model\n",
    "model = Sequential()\n",
    "model.add(Dense(8, input_dim=X_train_preprocced.shape[1], activation='relu',kernel_regularizer='l2'))\n",
    "model.add(Dropout(0.1))\n",
    "model.add(Dense(12, activation='relu'))#,kernel_regularizer='l2'))\n",
    "model.add(Dense(y_train_encoded.shape[1], activation='softmax'))\n",
    "# Compiling model\n",
    "model.compile(optimizer = \"adam\", loss = \"categorical_crossentropy\", metrics = [\"accuracy\"])\n",
    "model.summary()"
   ]
  },
  {
   "cell_type": "code",
   "execution_count": 27,
   "id": "0424d054",
   "metadata": {},
   "outputs": [
    {
     "name": "stdout",
     "output_type": "stream",
     "text": [
      "Epoch 1/200\n",
      "85/85 [==============================] - 2s 14ms/step - loss: 2.1964 - accuracy: 0.2771 - val_loss: 2.1538 - val_accuracy: 0.4749\n",
      "Epoch 2/200\n",
      "85/85 [==============================] - 1s 12ms/step - loss: 2.1295 - accuracy: 0.4425 - val_loss: 2.0446 - val_accuracy: 0.5753\n",
      "Epoch 3/200\n",
      "85/85 [==============================] - 1s 12ms/step - loss: 2.0373 - accuracy: 0.4901 - val_loss: 1.8943 - val_accuracy: 0.5953\n",
      "Epoch 4/200\n",
      "85/85 [==============================] - 1s 12ms/step - loss: 1.9386 - accuracy: 0.5504 - val_loss: 1.7644 - val_accuracy: 0.5987\n",
      "Epoch 5/200\n",
      "85/85 [==============================] - 1s 12ms/step - loss: 1.8461 - accuracy: 0.5909 - val_loss: 1.6813 - val_accuracy: 0.5920\n",
      "Epoch 6/200\n",
      "85/85 [==============================] - 1s 12ms/step - loss: 1.7698 - accuracy: 0.5850 - val_loss: 1.6215 - val_accuracy: 0.5652\n",
      "Epoch 7/200\n",
      "85/85 [==============================] - 1s 12ms/step - loss: 1.7019 - accuracy: 0.6084 - val_loss: 1.5789 - val_accuracy: 0.6020\n",
      "Epoch 8/200\n",
      "85/85 [==============================] - 1s 12ms/step - loss: 1.6400 - accuracy: 0.6121 - val_loss: 1.5753 - val_accuracy: 0.5853\n",
      "Epoch 9/200\n",
      "85/85 [==============================] - 1s 13ms/step - loss: 1.5634 - accuracy: 0.6054 - val_loss: 1.5060 - val_accuracy: 0.5886\n",
      "Epoch 10/200\n",
      "85/85 [==============================] - 1s 12ms/step - loss: 1.5443 - accuracy: 0.5984 - val_loss: 1.5156 - val_accuracy: 0.5719\n",
      "Epoch 11/200\n",
      "85/85 [==============================] - 1s 12ms/step - loss: 1.4856 - accuracy: 0.6039 - val_loss: 1.4835 - val_accuracy: 0.5953\n",
      "Epoch 12/200\n",
      "85/85 [==============================] - 1s 12ms/step - loss: 1.4201 - accuracy: 0.6385 - val_loss: 1.4372 - val_accuracy: 0.5786\n",
      "Epoch 13/200\n",
      "85/85 [==============================] - 1s 12ms/step - loss: 1.3891 - accuracy: 0.6408 - val_loss: 1.4441 - val_accuracy: 0.5819\n",
      "Epoch 14/200\n",
      "85/85 [==============================] - 1s 12ms/step - loss: 1.3553 - accuracy: 0.6259 - val_loss: 1.4151 - val_accuracy: 0.5652\n",
      "Epoch 15/200\n",
      "85/85 [==============================] - 1s 12ms/step - loss: 1.2917 - accuracy: 0.6475 - val_loss: 1.4326 - val_accuracy: 0.5719\n",
      "Epoch 16/200\n",
      "85/85 [==============================] - 1s 12ms/step - loss: 1.2812 - accuracy: 0.6478 - val_loss: 1.4228 - val_accuracy: 0.5786\n",
      "Epoch 17/200\n",
      "85/85 [==============================] - 1s 12ms/step - loss: 1.2227 - accuracy: 0.6471 - val_loss: 1.3889 - val_accuracy: 0.5753\n",
      "Epoch 18/200\n",
      "85/85 [==============================] - 1s 12ms/step - loss: 1.2104 - accuracy: 0.6389 - val_loss: 1.4124 - val_accuracy: 0.5719\n",
      "Epoch 19/200\n",
      "85/85 [==============================] - 1s 12ms/step - loss: 1.1977 - accuracy: 0.6668 - val_loss: 1.3816 - val_accuracy: 0.5953\n",
      "Epoch 20/200\n",
      "85/85 [==============================] - 1s 12ms/step - loss: 1.1468 - accuracy: 0.6690 - val_loss: 1.3981 - val_accuracy: 0.5920\n",
      "Epoch 21/200\n",
      "85/85 [==============================] - 1s 12ms/step - loss: 1.1115 - accuracy: 0.6995 - val_loss: 1.3620 - val_accuracy: 0.5987\n",
      "Epoch 22/200\n",
      "85/85 [==============================] - 1s 12ms/step - loss: 1.0771 - accuracy: 0.6954 - val_loss: 1.3610 - val_accuracy: 0.5987\n",
      "Epoch 23/200\n",
      "85/85 [==============================] - 1s 12ms/step - loss: 1.0520 - accuracy: 0.6951 - val_loss: 1.3459 - val_accuracy: 0.6087\n",
      "Epoch 24/200\n",
      "85/85 [==============================] - 1s 12ms/step - loss: 1.0156 - accuracy: 0.7021 - val_loss: 1.3253 - val_accuracy: 0.6020\n",
      "Epoch 25/200\n",
      "85/85 [==============================] - 1s 12ms/step - loss: 1.0045 - accuracy: 0.7319 - val_loss: 1.3471 - val_accuracy: 0.6087\n",
      "Epoch 26/200\n",
      "85/85 [==============================] - 1s 12ms/step - loss: 0.9659 - accuracy: 0.7378 - val_loss: 1.3189 - val_accuracy: 0.5987\n",
      "Epoch 27/200\n",
      "85/85 [==============================] - 1s 12ms/step - loss: 0.9546 - accuracy: 0.7282 - val_loss: 1.3302 - val_accuracy: 0.6087\n",
      "Epoch 28/200\n",
      "85/85 [==============================] - 1s 12ms/step - loss: 0.9382 - accuracy: 0.7397 - val_loss: 1.3017 - val_accuracy: 0.6154\n",
      "Epoch 29/200\n",
      "85/85 [==============================] - 1s 12ms/step - loss: 0.8900 - accuracy: 0.7464 - val_loss: 1.3184 - val_accuracy: 0.6187\n",
      "Epoch 30/200\n",
      "85/85 [==============================] - 1s 13ms/step - loss: 0.8778 - accuracy: 0.7553 - val_loss: 1.3228 - val_accuracy: 0.6054\n",
      "Epoch 31/200\n",
      "85/85 [==============================] - 1s 12ms/step - loss: 0.8715 - accuracy: 0.7590 - val_loss: 1.2907 - val_accuracy: 0.6321\n",
      "Epoch 32/200\n",
      "85/85 [==============================] - 1s 12ms/step - loss: 0.8583 - accuracy: 0.7772 - val_loss: 1.2866 - val_accuracy: 0.6187\n",
      "Epoch 33/200\n",
      "85/85 [==============================] - 1s 12ms/step - loss: 0.8351 - accuracy: 0.7698 - val_loss: 1.3072 - val_accuracy: 0.6054\n",
      "Epoch 34/200\n",
      "85/85 [==============================] - 1s 12ms/step - loss: 0.8284 - accuracy: 0.7724 - val_loss: 1.2996 - val_accuracy: 0.5920\n",
      "Epoch 35/200\n",
      "85/85 [==============================] - 1s 12ms/step - loss: 0.8218 - accuracy: 0.7910 - val_loss: 1.2967 - val_accuracy: 0.6154\n",
      "Epoch 36/200\n",
      "85/85 [==============================] - 1s 12ms/step - loss: 0.8155 - accuracy: 0.7847 - val_loss: 1.2780 - val_accuracy: 0.6321\n",
      "Epoch 37/200\n",
      "85/85 [==============================] - 1s 12ms/step - loss: 0.7895 - accuracy: 0.7958 - val_loss: 1.2996 - val_accuracy: 0.6321\n",
      "Epoch 38/200\n",
      "85/85 [==============================] - 1s 12ms/step - loss: 0.7680 - accuracy: 0.8185 - val_loss: 1.2829 - val_accuracy: 0.6288\n",
      "Epoch 39/200\n",
      "85/85 [==============================] - 1s 13ms/step - loss: 0.7487 - accuracy: 0.8211 - val_loss: 1.2694 - val_accuracy: 0.6288\n",
      "Epoch 40/200\n",
      "85/85 [==============================] - 1s 12ms/step - loss: 0.7443 - accuracy: 0.8334 - val_loss: 1.2705 - val_accuracy: 0.6054\n",
      "Epoch 41/200\n",
      "85/85 [==============================] - 1s 12ms/step - loss: 0.7344 - accuracy: 0.8167 - val_loss: 1.2539 - val_accuracy: 0.6321\n",
      "Epoch 42/200\n",
      "85/85 [==============================] - 1s 12ms/step - loss: 0.7270 - accuracy: 0.8312 - val_loss: 1.2716 - val_accuracy: 0.6321\n",
      "Epoch 43/200\n",
      "85/85 [==============================] - 1s 12ms/step - loss: 0.7211 - accuracy: 0.8312 - val_loss: 1.2622 - val_accuracy: 0.6288\n",
      "Epoch 44/200\n",
      "85/85 [==============================] - 1s 12ms/step - loss: 0.7100 - accuracy: 0.8512 - val_loss: 1.2680 - val_accuracy: 0.6321\n",
      "Epoch 45/200\n",
      "85/85 [==============================] - 1s 12ms/step - loss: 0.6924 - accuracy: 0.8568 - val_loss: 1.2612 - val_accuracy: 0.6488\n",
      "Epoch 46/200\n",
      "85/85 [==============================] - 1s 12ms/step - loss: 0.6685 - accuracy: 0.8494 - val_loss: 1.2424 - val_accuracy: 0.6488\n",
      "Epoch 47/200\n",
      "85/85 [==============================] - 1s 13ms/step - loss: 0.6661 - accuracy: 0.8535 - val_loss: 1.2632 - val_accuracy: 0.6388\n",
      "Epoch 48/200\n",
      "85/85 [==============================] - 1s 12ms/step - loss: 0.6509 - accuracy: 0.8613 - val_loss: 1.2610 - val_accuracy: 0.6455\n",
      "Epoch 49/200\n",
      "85/85 [==============================] - 1s 12ms/step - loss: 0.6339 - accuracy: 0.8605 - val_loss: 1.2283 - val_accuracy: 0.6522\n",
      "Epoch 50/200\n",
      "85/85 [==============================] - 1s 12ms/step - loss: 0.6266 - accuracy: 0.8587 - val_loss: 1.2242 - val_accuracy: 0.6488\n",
      "Epoch 51/200\n",
      "85/85 [==============================] - 1s 12ms/step - loss: 0.6433 - accuracy: 0.8654 - val_loss: 1.2736 - val_accuracy: 0.6254\n",
      "Epoch 52/200\n",
      "85/85 [==============================] - 1s 12ms/step - loss: 0.6543 - accuracy: 0.8758 - val_loss: 1.2728 - val_accuracy: 0.6488\n",
      "Epoch 53/200\n",
      "85/85 [==============================] - 1s 12ms/step - loss: 0.6485 - accuracy: 0.8736 - val_loss: 1.2527 - val_accuracy: 0.6656\n",
      "Epoch 54/200\n",
      "85/85 [==============================] - 1s 12ms/step - loss: 0.6312 - accuracy: 0.8713 - val_loss: 1.2594 - val_accuracy: 0.6421\n",
      "Epoch 55/200\n",
      "85/85 [==============================] - 1s 12ms/step - loss: 0.6354 - accuracy: 0.8646 - val_loss: 1.3250 - val_accuracy: 0.6221\n",
      "Wall time: 58.4 s\n"
     ]
    }
   ],
   "source": [
    "%%time\n",
    "# Training the model\n",
    "history = model.fit(X_train_preprocced, y_train_encoded, epochs = 200,\n",
    "                    validation_data=(X_validation_preprocced,y_validation_encoded),\n",
    "                    callbacks=[es],\n",
    "                    class_weight=class_dict,\n",
    "                    shuffle=True)"
   ]
  },
  {
   "cell_type": "code",
   "execution_count": 28,
   "id": "e5340589",
   "metadata": {},
   "outputs": [
    {
     "data": {
      "image/png": "[encoded data removed]",
      "text/plain": [
       "<Figure size 432x288 with 1 Axes>"
      ]
     },
     "metadata": {},
     "output_type": "display_data"
    }
   ],
   "source": [
    "# plot learning curves\n",
    "plt.plot(pd.DataFrame(history.history))\n",
    "plt.legend(pd.DataFrame(history.history).columns)\n",
    "plt.title('Learning Curves')\n",
    "plt.xlabel('Epoch')\n",
    "plt.show()"
   ]
  },
  {
   "cell_type": "code",
   "execution_count": 29,
   "id": "22ba8d8e",
   "metadata": {},
   "outputs": [
    {
     "name": "stdout",
     "output_type": "stream",
     "text": [
      "11/11 [==============================] - 0s 5ms/step - loss: 1.1311 - accuracy: 0.6877\n"
     ]
    },
    {
     "data": {
      "text/plain": [
       "[1.131112813949585, 0.6876876950263977]"
      ]
     },
     "execution_count": 29,
     "metadata": {},
     "output_type": "execute_result"
    }
   ],
   "source": [
    "model.evaluate(X_test_preprocced,y_test_encoded)"
   ]
  },
  {
   "cell_type": "code",
   "execution_count": null,
   "id": "605488ec",
   "metadata": {},
   "outputs": [],
   "source": [
    "# With this Neural Network we were able to increase slight the model accuracy"
   ]
  }
 ],
 "metadata": {
  "kernelspec": {
   "display_name": "Python 3",
   "language": "python",
   "name": "python3"
  },
  "language_info": {
   "codemirror_mode": {
    "name": "ipython",
    "version": 3
   },
   "file_extension": ".py",
   "mimetype": "text/x-python",
   "name": "python",
   "nbconvert_exporter": "python",
   "pygments_lexer": "ipython3",
   "version": "3.8.8"
  }
 },
 "nbformat": 4,
 "nbformat_minor": 5
}
